{
 "cells": [
  {
   "cell_type": "code",
   "execution_count": 1,
   "metadata": {},
   "outputs": [],
   "source": [
    "from selenium import webdriver #library and means to which crawl the web\n",
    "from getpass import getpass\n",
    "from time import sleep\n",
    "import pandas as pd\n",
    "from selenium.webdriver.common.keys import Keys\n",
    "from selenium.common.exceptions import NoSuchElementException\n",
    "from selenium.webdriver import Chrome\n",
    "import time\n"
   ]
  },
  {
   "cell_type": "markdown",
   "metadata": {},
   "source": [
    "# Create dataframe"
   ]
  },
  {
   "cell_type": "code",
   "execution_count": 2,
   "metadata": {},
   "outputs": [],
   "source": [
    "address = []\n",
    "bed_count = []\n",
    "bath_count = []\n",
    "sqr_ft = []\n",
    "prop_type = []\n",
    "specs = [bed_count, bath_count, sqr_ft, prop_type]"
   ]
  },
  {
   "cell_type": "markdown",
   "metadata": {},
   "source": [
    "# Crawl"
   ]
  },
  {
   "cell_type": "code",
   "execution_count": 4,
   "metadata": {},
   "outputs": [],
   "source": [
    "PATH = r\"chromedriver.exe\" #path to get chromedriver (change to \"mac/chromedriver.exe\")\n",
    "driver = webdriver.Chrome(PATH) #creating the function\n",
    "driver.maximize_window()"
   ]
  },
  {
   "cell_type": "code",
   "execution_count": 5,
   "metadata": {},
   "outputs": [
    {
     "name": "stdout",
     "output_type": "stream",
     "text": [
      "This address is 100 W 57th St #19M, New York, NY 10019\n",
      "This property's specs are Studio\n",
      "This property's specs are 1 ba\n",
      "This property's specs are 450 sqft\n",
      "This property's specs are - Condo for sale\n",
      "This address is 142 Fox Ln, Staten Island, NY 10306\n",
      "This property's specs are 2 bds\n",
      "This property's specs are 3 ba\n",
      "This property's specs are 905 sqft\n",
      "This property's specs are - House for sale\n",
      "This address is 100 W 57th St #11F, New York, NY 10019\n",
      "This property's specs are Studio\n",
      "This property's specs are 1 ba\n",
      "This property's specs are 650 sqft\n",
      "This property's specs are - Condo for sale\n",
      "This address is 69-30 79th St, Middle Village, NY 11379\n",
      "This property's specs are 3 bds\n",
      "This property's specs are 2 ba\n",
      "This property's specs are 1,600 sqft\n",
      "This property's specs are - House for sale\n",
      "This address is 920 Metcalf Ave APT 3G, Bronx, NY 10473\n",
      "This property's specs are 1 bd\n",
      "This property's specs are 1 ba\n",
      "This property's specs are 700 sqft\n",
      "This property's specs are - Condo for sale\n",
      "This address is 4005 Ithaca St APT 5D, Elmhurst, NY 11373\n",
      "This property's specs are 1 bd\n",
      "This property's specs are 1 ba\n",
      "This property's specs are 640 sqft\n",
      "This property's specs are - Condo for sale\n",
      "This address is 330 W 17th St APT 5E, New York, NY 10011\n",
      "This property's specs are 1 bd\n",
      "This property's specs are 1 ba\n",
      "This property's specs are 500 sqft\n",
      "This property's specs are - For sale by owner\n",
      "This address is 408 W 25th St APT 4FE, New York, NY 10001\n",
      "This property's specs are 1 bd\n",
      "This property's specs are 1 ba\n",
      "This property's specs are -- sqft\n",
      "This property's specs are - Condo for sale\n",
      "This address is 9281 Shore Rd APT 203, Brooklyn, NY 11209\n",
      "This property's specs are 2 bds\n",
      "This property's specs are 1 ba\n",
      "This property's specs are 1,000 sqft\n",
      "This property's specs are - For sale by owner\n"
     ]
    },
    {
     "ename": "KeyboardInterrupt",
     "evalue": "",
     "output_type": "error",
     "traceback": [
      "\u001b[1;31m---------------------------------------------------------------------------\u001b[0m",
      "\u001b[1;31mKeyboardInterrupt\u001b[0m                         Traceback (most recent call last)",
      "\u001b[1;32m<ipython-input-5-d18808803488>\u001b[0m in \u001b[0;36m<module>\u001b[1;34m\u001b[0m\n\u001b[0;32m      7\u001b[0m \u001b[0mpage_number\u001b[0m \u001b[1;33m=\u001b[0m \u001b[1;36m0\u001b[0m\u001b[1;33m\u001b[0m\u001b[1;33m\u001b[0m\u001b[0m\n\u001b[0;32m      8\u001b[0m \u001b[1;32mfor\u001b[0m \u001b[0mi\u001b[0m \u001b[1;32min\u001b[0m \u001b[0mrange\u001b[0m\u001b[1;33m(\u001b[0m\u001b[1;36m20\u001b[0m\u001b[1;33m)\u001b[0m\u001b[1;33m:\u001b[0m\u001b[1;33m\u001b[0m\u001b[1;33m\u001b[0m\u001b[0m\n\u001b[1;32m----> 9\u001b[1;33m     \u001b[0mtime\u001b[0m\u001b[1;33m.\u001b[0m\u001b[0msleep\u001b[0m\u001b[1;33m(\u001b[0m\u001b[1;36m15\u001b[0m\u001b[1;33m)\u001b[0m\u001b[1;33m\u001b[0m\u001b[1;33m\u001b[0m\u001b[0m\n\u001b[0m\u001b[0;32m     10\u001b[0m     \u001b[0mpage_number\u001b[0m\u001b[1;33m+=\u001b[0m\u001b[1;36m1\u001b[0m\u001b[1;33m\u001b[0m\u001b[1;33m\u001b[0m\u001b[0m\n\u001b[0;32m     11\u001b[0m     \u001b[0murl\u001b[0m \u001b[1;33m=\u001b[0m \u001b[1;34mf\"https://www.zillow.com/new-york-ny/{page_number}_p/\"\u001b[0m\u001b[1;33m\u001b[0m\u001b[1;33m\u001b[0m\u001b[0m\n",
      "\u001b[1;31mKeyboardInterrupt\u001b[0m: "
     ]
    }
   ],
   "source": [
    "# Append\n",
    "# For each page\n",
    "# Taking all the necessary elements\n",
    "# Taking all necessary elements, boil down to list attribute\n",
    "# Taking all LI attributes, taking data in each\n",
    "\n",
    "page_number = 0\n",
    "for i in range(20):\n",
    "    time.sleep(15)\n",
    "    page_number+=1\n",
    "    url = f\"https://www.zillow.com/new-york-ny/{page_number}_p/\"\n",
    "    driver.get(url)\n",
    "    element_specs = driver.find_elements_by_xpath('//*[@class=\"list-card-details\"]')\n",
    "    element_addresses = driver.find_elements_by_class_name('list-card-addr')\n",
    "    for index in range(len(element_specs)):\n",
    "        if element_addresses[index].text != \"2104 64th St, Brooklyn, NY 11204\":\n",
    "            print(f\"This address is {element_addresses[index].text}\")\n",
    "            address.append(element_addresses[index].text)\n",
    "            for i in range(4):\n",
    "                try:\n",
    "                    print(f\"This property's specs are {element_specs[index].find_elements_by_tag_name('li')[i].text}\")\n",
    "                    specs[i].append(element_specs[index].find_elements_by_tag_name('li')[i].text)\n",
    "                except:\n",
    "                    specs[i].append('empty')\n",
    "                    print(\"Empty\")\n",
    "        else:\n",
    "            print(element_addresses[index].text)"
   ]
  },
  {
   "cell_type": "code",
   "execution_count": 5,
   "metadata": {},
   "outputs": [],
   "source": [
    "d = {'Address': address, \"Beds\":specs[0],\"Bathrooms\":specs[1], \"Square Footage\":specs[2],\"Property type\":specs[3]}"
   ]
  },
  {
   "cell_type": "code",
   "execution_count": 6,
   "metadata": {},
   "outputs": [],
   "source": [
    "df = pd.DataFrame(data=d)"
   ]
  },
  {
   "cell_type": "code",
   "execution_count": 8,
   "metadata": {},
   "outputs": [],
   "source": [
    "df.to_csv('test.csv')"
   ]
  }
 ],
 "metadata": {
  "kernelspec": {
   "display_name": "Python 3",
   "language": "python",
   "name": "python3"
  },
  "language_info": {
   "codemirror_mode": {
    "name": "ipython",
    "version": 3
   },
   "file_extension": ".py",
   "mimetype": "text/x-python",
   "name": "python",
   "nbconvert_exporter": "python",
   "pygments_lexer": "ipython3",
   "version": "3.7.6"
  }
 },
 "nbformat": 4,
 "nbformat_minor": 4
}

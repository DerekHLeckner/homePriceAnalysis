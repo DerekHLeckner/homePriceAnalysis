{
 "cells": [
  {
   "cell_type": "code",
   "execution_count": 1,
   "metadata": {},
   "outputs": [],
   "source": [
    "from selenium import webdriver #library and means to which crawl the web\n",
    "from getpass import getpass\n",
    "from time import sleep\n",
    "import pandas as pd\n",
    "from selenium.webdriver.common.keys import Keys\n",
    "from selenium.common.exceptions import NoSuchElementException\n",
    "from selenium.webdriver import Chrome\n",
    "import time\n"
   ]
  },
  {
   "cell_type": "markdown",
   "metadata": {},
   "source": [
    "# Create dataframe"
   ]
  },
  {
   "cell_type": "code",
   "execution_count": 2,
   "metadata": {},
   "outputs": [],
   "source": [
    "address = []\n",
    "bed_count = []\n",
    "bath_count = []\n",
    "sqr_ft = []\n",
    "prop_type = []\n",
    "prices = []\n",
    "specs = [bed_count, bath_count, sqr_ft, prop_type]"
   ]
  },
  {
   "cell_type": "markdown",
   "metadata": {},
   "source": [
    "# Crawl"
   ]
  },
  {
   "cell_type": "code",
   "execution_count": 3,
   "metadata": {},
   "outputs": [],
   "source": [
    "PATH = r\"chromedriver.exe\" #path to get chromedriver (change to \"mac/chromedriver.exe\")\n",
    "driver = webdriver.Chrome(PATH) #creating the function\n",
    "driver.maximize_window()"
   ]
  },
  {
   "cell_type": "code",
   "execution_count": null,
   "metadata": {},
   "outputs": [],
   "source": [
    "# Append\n",
    "# For each page\n",
    "# Taking all the necessary elements\n",
    "# Taking all necessary elements, boil down to list attribute\n",
    "# Taking all LI attributes, taking data in each\n",
    "\n",
    "page_number = 0\n",
    "for i in range(20):\n",
    "    time.sleep(15)\n",
    "    page_number+=1\n",
    "    url = f\"https://www.zillow.com/new-york-ny/{page_number}_p/\"\n",
    "    driver.get(url)\n",
    "    element_price = driver.find_elements_by_xpath('//*[@class=\"list-card-price\"]')\n",
    "    element_specs = driver.find_elements_by_xpath('//*[@class=\"list-card-details\"]')\n",
    "    element_addresses = driver.find_elements_by_class_name('list-card-addr')\n",
    "    for index in range(len(element_specs)):\n",
    "        if element_addresses[index].text != \"2104 64th St, Brooklyn, NY 11204\":\n",
    "            print(f\"This address is {element_addresses[index].text}\")\n",
    "            address.append(element_addresses[index].text)\n",
    "            print(f\"At price {element_price[index].text}\")\n",
    "            prices.append(element_price[index].text)\n",
    "            for i in range(4):\n",
    "                try:\n",
    "                    print(f\"This property's specs are {element_specs[index].find_elements_by_tag_name('li')[i].text}\")\n",
    "                    specs[i].append(element_specs[index].find_elements_by_tag_name('li')[i].text)\n",
    "                except:\n",
    "                    specs[i].append('empty')\n",
    "                    print(\"Empty\")\n",
    "        else:\n",
    "            print(element_addresses[index].text)"
   ]
  },
  {
   "cell_type": "code",
   "execution_count": null,
   "metadata": {},
   "outputs": [],
   "source": [
    "d = {'Price': prices, 'Address': address, \"Beds\":specs[0],\"Bathrooms\":specs[1], \"Square Footage\":specs[2],\"Property type\":specs[3]}"
   ]
  },
  {
   "cell_type": "code",
   "execution_count": null,
   "metadata": {},
   "outputs": [],
   "source": [
    "df = pd.DataFrame(data=d)"
   ]
  },
  {
   "cell_type": "code",
   "execution_count": null,
   "metadata": {},
   "outputs": [],
   "source": [
    "df.to_csv('test.csv')"
   ]
  }
 ],
 "metadata": {
  "kernelspec": {
   "display_name": "Python 3",
   "language": "python",
   "name": "python3"
  },
  "language_info": {
   "codemirror_mode": {
    "name": "ipython",
    "version": 3
   },
   "file_extension": ".py",
   "mimetype": "text/x-python",
   "name": "python",
   "nbconvert_exporter": "python",
   "pygments_lexer": "ipython3",
   "version": "3.7.6"
  }
 },
 "nbformat": 4,
 "nbformat_minor": 4
}

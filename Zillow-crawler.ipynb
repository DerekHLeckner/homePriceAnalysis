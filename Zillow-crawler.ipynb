{
 "cells": [
  {
   "cell_type": "code",
   "execution_count": 1,
   "metadata": {},
   "outputs": [],
   "source": [
    "from selenium import webdriver #library and means to which crawl the web\n",
    "from getpass import getpass\n",
    "from time import sleep\n",
    "import pandas as pd\n",
    "from selenium.webdriver.common.keys import Keys\n",
    "from selenium.common.exceptions import NoSuchElementException\n",
    "from selenium.webdriver import Chrome\n",
    "import time\n"
   ]
  },
  {
   "cell_type": "markdown",
   "metadata": {},
   "source": [
    "# Create dataframe"
   ]
  },
  {
   "cell_type": "code",
   "execution_count": 29,
   "metadata": {},
   "outputs": [],
   "source": []
  },
  {
   "cell_type": "markdown",
   "metadata": {},
   "source": [
    "# Crawl"
   ]
  },
  {
   "cell_type": "code",
   "execution_count": 3,
   "metadata": {},
   "outputs": [],
   "source": [
    "PATH = r\"chromedriver.exe\" #path to get chromedriver (change to \"mac/chromedriver.exe\")\n",
    "driver = webdriver.Chrome(PATH) #creating the function\n",
    "driver.maximize_window()"
   ]
  },
  {
   "cell_type": "code",
   "execution_count": 34,
   "metadata": {},
   "outputs": [
    {
     "name": "stdout",
     "output_type": "stream",
     "text": [
      "40\n"
     ]
    }
   ],
   "source": [
    "element_specs = driver.find_elements_by_xpath('//*[@class=\"list-card-details\"]')\n",
    "print(len(element_specs))"
   ]
  },
  {
   "cell_type": "code",
   "execution_count": 57,
   "metadata": {},
   "outputs": [],
   "source": [
    "def scroll(driver, timeout):\n",
    "    scroll_pause_time = timeout\n",
    "    sleep(2)\n",
    "    # Get scroll height\n",
    "    last_height = driver.execute_script(\"return document.body.scrollHeight\")\n",
    "\n",
    "    while True:\n",
    "        # Scroll down to bottom\n",
    "        \n",
    "        driver.execute_script(\"window.scrollTo(0, document.body.scrollHeight);\")\n",
    "\n",
    "        # Wait to load page\n",
    "        sleep(scroll_pause_time)\n",
    "\n",
    "        # Calculate new scroll height and compare with last scroll height\n",
    "        new_height = driver.execute_script(\"return document.body.scrollHeight\")\n",
    "        if new_height == last_height:\n",
    "            # If heights are the same it will exit the function\n",
    "            break\n",
    "        last_height = new_height\n",
    "    driver.execute_script(\"window.scrollTo(0, 0)\")\n",
    "    sleep(1)\n",
    "scroll(driver,3)"
   ]
  },
  {
   "cell_type": "code",
   "execution_count": 50,
   "metadata": {},
   "outputs": [],
   "source": [
    "driver.get(\"https://www.youtube.com\")"
   ]
  },
  {
   "cell_type": "code",
   "execution_count": 42,
   "metadata": {},
   "outputs": [
    {
     "name": "stdout",
     "output_type": "stream",
     "text": [
      "For page 1, there are 25 listings\n",
      "This address is 173-11 110th Ave, Jamaica, NY 11433\n",
      "At price $453,200\n",
      "This property's specs are 6 bds\n",
      "This property's specs are 4 ba\n",
      "This property's specs are 2,168 sqft\n",
      "This property's specs are - Foreclosure\n",
      "This address is 100 W 57th St #19M, New York, NY 10019\n",
      "At price $119,000\n",
      "This property's specs are Studio\n",
      "This property's specs are 1 ba\n",
      "This property's specs are 450 sqft\n",
      "This property's specs are - Condo for sale\n",
      "This address is 461 83rd St, Brooklyn, NY 11209\n",
      "At price $1,295,000\n",
      "This property's specs are 4 bds\n",
      "This property's specs are 3 ba\n",
      "This property's specs are 2,598 sqft\n",
      "This property's specs are - For sale by owner\n",
      "This address is 920 Metcalf Ave APT 3G, Bronx, NY 10473\n",
      "At price $65,000\n",
      "This property's specs are 1 bd\n",
      "This property's specs are 1 ba\n",
      "This property's specs are 700 sqft\n",
      "This property's specs are - Condo for sale\n",
      "This address is 303 E 57th St APT 32B, New York, NY 10022\n",
      "At price $379,000\n",
      "This property's specs are 2 bds\n",
      "This property's specs are 3 ba\n",
      "This property's specs are 1,800 sqft\n",
      "This property's specs are - Condo for sale\n",
      "This address is 35 Poland Pl, Staten Island, NY 10314\n",
      "At price $699,000\n",
      "This property's specs are 3 bds\n",
      "This property's specs are 3 ba\n",
      "This property's specs are 2,132 sqft\n",
      "This property's specs are - House for sale\n",
      "This address is 1204 Franklin Ave, Bronx, NY 10456\n",
      "At price $125,000\n",
      "This property's specs are 5 bds\n",
      "This property's specs are 2 ba\n",
      "This property's specs are 2,695 sqft\n",
      "This property's specs are - Multi-family home for sale\n",
      "This address is 3363 Sedgwick Ave #4E, Bronx, NY 10463\n",
      "At price $299,000\n",
      "This property's specs are 3 bds\n",
      "This property's specs are 2 ba\n",
      "This property's specs are 1,200 sqft\n",
      "This property's specs are - Condo for sale\n",
      "This address is 303 E 57th St APT 6D, New York, NY 10022\n",
      "At price $375,000\n",
      "This property's specs are 2 bds\n",
      "This property's specs are 2 ba\n",
      "This property's specs are 1,400 sqft\n",
      "This property's specs are - Condo for sale\n",
      "This address is 18-70 211th St APT 2D, Bayside, NY 11360\n",
      "At price $345,000\n",
      "This property's specs are 3 bds\n",
      "This property's specs are 2 ba\n",
      "This property's specs are 1,400 sqft\n",
      "This property's specs are - Condo for sale\n",
      "This address is 146-15 123rd Ave, Jamaica, NY 11436\n",
      "At price $200,000\n",
      "This property's specs are 4 bds\n",
      "This property's specs are 2 ba\n",
      "This property's specs are 1,248 sqft\n",
      "This property's specs are - House for sale\n",
      "This address is 303 E 57th St #37DE, New York, NY 10022\n",
      "At price $495,000\n",
      "This property's specs are 4 bds\n",
      "This property's specs are 4 ba\n",
      "This property's specs are -- sqft\n",
      "This property's specs are - Condo for sale\n",
      "This address is 2170 Brigham St #4D, Brooklyn, NY 11229\n",
      "At price $239,000\n",
      "This property's specs are 2 bds\n",
      "This property's specs are 1 ba\n",
      "This property's specs are 1,024 sqft\n",
      "This property's specs are - Condo for sale\n",
      "This address is 142 Fox Ln, Staten Island, NY 10306\n",
      "At price $360,000\n",
      "This property's specs are 2 bds\n",
      "This property's specs are 3 ba\n",
      "This property's specs are 905 sqft\n",
      "This property's specs are - House for sale\n",
      "This address is 163-45 Cross Bay Blvd, Howard Beach, NY 11414\n",
      "At price $185,000\n",
      "This property's specs are 3 bds\n",
      "This property's specs are 2 ba\n",
      "This property's specs are -- sqft\n",
      "This property's specs are - House for sale\n",
      "This address is 9281 Shore Rd APT 203, Brooklyn, NY 11209\n",
      "At price $500,000\n",
      "This property's specs are 2 bds\n",
      "This property's specs are 1 ba\n",
      "This property's specs are 1,000 sqft\n",
      "This property's specs are - For sale by owner\n",
      "This address is 27 Prospect Park W #1A, Brooklyn, NY 11215\n",
      "At price $589,000\n",
      "This property's specs are 2 bds\n",
      "This property's specs are 2 ba\n",
      "This property's specs are 825 sqft\n",
      "This property's specs are - Condo for sale\n",
      "This address is 100 W 57th St #11F, New York, NY 10019\n",
      "At price $150,000\n",
      "This property's specs are Studio\n",
      "This property's specs are 1 ba\n",
      "This property's specs are 650 sqft\n",
      "This property's specs are - Condo for sale\n",
      "This address is 432 Park Ave #PENTHOUSE, New York, NY 10022\n",
      "At price $169,000,000\n",
      "This property's specs are 6 bds\n",
      "This property's specs are 9 ba\n",
      "This property's specs are 8,255 sqft\n",
      "This property's specs are - Condo for sale\n",
      "This address is 408 W 25th St APT 4FE, New York, NY 10001\n",
      "At price $299,000\n",
      "This property's specs are 1 bd\n",
      "This property's specs are 1 ba\n",
      "This property's specs are -- sqft\n",
      "This property's specs are - Condo for sale\n",
      "This address is 303 E 57th St APT 12G, New York, NY 10022\n",
      "At price $345,000\n",
      "This property's specs are 2 bds\n",
      "This property's specs are 2 ba\n",
      "This property's specs are 1,400 sqft\n",
      "This property's specs are - Condo for sale\n",
      "This address is 4005 Ithaca St APT 5D, Elmhurst, NY 11373\n",
      "At price $1,650\n",
      "This property's specs are 1 bd\n",
      "This property's specs are 1 ba\n",
      "This property's specs are 640 sqft\n",
      "This property's specs are - Condo for sale\n",
      "This address is 21-57 33rd St APT 4B, Astoria, NY 11105\n",
      "At price $279,000\n",
      "This property's specs are 2 bds\n",
      "Empty\n",
      "This property's specs are 1 ba\n",
      "This property's specs are -- sqft\n",
      "This property's specs are - Condo for sale\n",
      "This address is 112-19 34th Ave APT 3H, Corona, NY 11368\n",
      "At price $174,900\n",
      "Empty\n",
      "This property's specs are 1 ba\n",
      "This property's specs are 1,000 sqft\n",
      "This property's specs are - Foreclosure\n",
      "This address is 1984 Vyse Ave #A, Bronx, NY 10460\n",
      "At price $150,000\n",
      "This property's specs are 2 bds\n",
      "Empty\n",
      "This property's specs are 1 ba\n",
      "This property's specs are 900 sqft\n",
      "This property's specs are - Condo for sale\n"
     ]
    },
    {
     "ename": "KeyboardInterrupt",
     "evalue": "",
     "output_type": "error",
     "traceback": [
      "\u001b[1;31m---------------------------------------------------------------------------\u001b[0m",
      "\u001b[1;31mKeyboardInterrupt\u001b[0m                         Traceback (most recent call last)",
      "\u001b[1;32m<ipython-input-42-eed260b7078d>\u001b[0m in \u001b[0;36m<module>\u001b[1;34m\u001b[0m\n\u001b[0;32m     15\u001b[0m \u001b[0mpage_number\u001b[0m \u001b[1;33m=\u001b[0m \u001b[1;36m0\u001b[0m\u001b[1;33m\u001b[0m\u001b[1;33m\u001b[0m\u001b[0m\n\u001b[0;32m     16\u001b[0m \u001b[1;32mfor\u001b[0m \u001b[0mi\u001b[0m \u001b[1;32min\u001b[0m \u001b[0mrange\u001b[0m\u001b[1;33m(\u001b[0m\u001b[1;36m20\u001b[0m\u001b[1;33m)\u001b[0m\u001b[1;33m:\u001b[0m\u001b[1;33m\u001b[0m\u001b[1;33m\u001b[0m\u001b[0m\n\u001b[1;32m---> 17\u001b[1;33m     \u001b[0mtime\u001b[0m\u001b[1;33m.\u001b[0m\u001b[0msleep\u001b[0m\u001b[1;33m(\u001b[0m\u001b[1;36m15\u001b[0m\u001b[1;33m)\u001b[0m\u001b[1;33m\u001b[0m\u001b[1;33m\u001b[0m\u001b[0m\n\u001b[0m\u001b[0;32m     18\u001b[0m     \u001b[0mpage_number\u001b[0m\u001b[1;33m+=\u001b[0m\u001b[1;36m1\u001b[0m\u001b[1;33m\u001b[0m\u001b[1;33m\u001b[0m\u001b[0m\n\u001b[0;32m     19\u001b[0m     \u001b[0murl\u001b[0m \u001b[1;33m=\u001b[0m \u001b[1;34mf\"https://www.zillow.com/new-york-ny/{page_number}_p/\"\u001b[0m\u001b[1;33m\u001b[0m\u001b[1;33m\u001b[0m\u001b[0m\n",
      "\u001b[1;31mKeyboardInterrupt\u001b[0m: "
     ]
    }
   ],
   "source": [
    "address = []\n",
    "bed_count = []\n",
    "bath_count = []\n",
    "sqr_ft = []\n",
    "prop_type = []\n",
    "prices = []\n",
    "specs = [bed_count, bath_count, sqr_ft, prop_type]\n",
    "\n",
    "# Append\n",
    "# For each page\n",
    "# Taking all the necessary elements\n",
    "# Taking all necessary elements, boil down to list attribute\n",
    "# Taking all LI attributes, taking data in each\n",
    "\n",
    "page_number = 0\n",
    "for i in range(20):\n",
    "    time.sleep(15)\n",
    "    page_number+=1\n",
    "    url = f\"https://www.zillow.com/new-york-ny/{page_number}_p/\"\n",
    "    driver.get(url)\n",
    "    time.sleep(5)\n",
    "    scroll(driver, 2)\n",
    "    element_price = driver.find_elements_by_xpath('//*[@class=\"list-card-price\"]')\n",
    "    element_specs = driver.find_elements_by_xpath('//*[@class=\"list-card-details\"]')\n",
    "    element_addresses = driver.find_elements_by_class_name('list-card-addr')\n",
    "    print(f\"For page {page_number}, there are {len(element_specs)} listings\")\n",
    "    for index in range(len(element_specs)):\n",
    "        if element_addresses[index].text != \"2104 64th St, Brooklyn, NY 11204\":\n",
    "            print(f\"This address is {element_addresses[index].text}\")\n",
    "            address.append(element_addresses[index].text)\n",
    "            print(f\"At price {element_price[index].text}\")\n",
    "            prices.append(element_price[index].text)\n",
    "            for i in range(4):\n",
    "                try:\n",
    "                    print(f\"This property's specs are {element_specs[index].find_elements_by_tag_name('li')[i].text}\")\n",
    "                    specs[i].append(element_specs[index].find_elements_by_tag_name('li')[i].text)\n",
    "                except:\n",
    "                    specs[i].append('empty')\n",
    "                    print(\"Empty\")\n",
    "        else:\n",
    "            print(element_addresses[index].text)"
   ]
  },
  {
   "cell_type": "code",
   "execution_count": 7,
   "metadata": {},
   "outputs": [],
   "source": [
    "d = {'Price': prices, 'Address': address, \"Beds\":specs[0],\"Bathrooms\":specs[1], \"Square Footage\":specs[2],\"Property type\":specs[3]}"
   ]
  },
  {
   "cell_type": "code",
   "execution_count": 8,
   "metadata": {},
   "outputs": [],
   "source": [
    "df = pd.DataFrame(data=d)"
   ]
  },
  {
   "cell_type": "code",
   "execution_count": 9,
   "metadata": {},
   "outputs": [],
   "source": [
    "df.to_csv('test.csv')"
   ]
  }
 ],
 "metadata": {
  "kernelspec": {
   "display_name": "Python 3",
   "language": "python",
   "name": "python3"
  },
  "language_info": {
   "codemirror_mode": {
    "name": "ipython",
    "version": 3
   },
   "file_extension": ".py",
   "mimetype": "text/x-python",
   "name": "python",
   "nbconvert_exporter": "python",
   "pygments_lexer": "ipython3",
   "version": "3.7.6"
  }
 },
 "nbformat": 4,
 "nbformat_minor": 4
}

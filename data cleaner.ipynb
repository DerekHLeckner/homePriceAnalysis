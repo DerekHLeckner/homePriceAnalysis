{
 "cells": [
  {
   "cell_type": "markdown",
   "metadata": {},
   "source": [
    "# Import dependencies"
   ]
  },
  {
   "cell_type": "code",
   "execution_count": 1,
   "metadata": {},
   "outputs": [],
   "source": [
    "import pandas as pd\n",
    "import re\n",
    "import numpy as np"
   ]
  },
  {
   "cell_type": "markdown",
   "metadata": {},
   "source": [
    "# Import dataframe"
   ]
  },
  {
   "cell_type": "code",
   "execution_count": 2,
   "metadata": {},
   "outputs": [],
   "source": [
    "df = pd.read_csv(\"Resources/zillow_data.csv\")"
   ]
  },
  {
   "cell_type": "markdown",
   "metadata": {},
   "source": [
    "# Inspect data"
   ]
  },
  {
   "cell_type": "code",
   "execution_count": 3,
   "metadata": {
    "scrolled": true
   },
   "outputs": [
    {
     "data": {
      "text/html": [
       "<div>\n",
       "<style scoped>\n",
       "    .dataframe tbody tr th:only-of-type {\n",
       "        vertical-align: middle;\n",
       "    }\n",
       "\n",
       "    .dataframe tbody tr th {\n",
       "        vertical-align: top;\n",
       "    }\n",
       "\n",
       "    .dataframe thead th {\n",
       "        text-align: right;\n",
       "    }\n",
       "</style>\n",
       "<table border=\"1\" class=\"dataframe\">\n",
       "  <thead>\n",
       "    <tr style=\"text-align: right;\">\n",
       "      <th></th>\n",
       "      <th>Unnamed: 0</th>\n",
       "      <th>Price</th>\n",
       "      <th>Address</th>\n",
       "      <th>Beds</th>\n",
       "      <th>Bathrooms</th>\n",
       "      <th>Square Footage</th>\n",
       "      <th>Property type</th>\n",
       "    </tr>\n",
       "  </thead>\n",
       "  <tbody>\n",
       "    <tr>\n",
       "      <th>0</th>\n",
       "      <td>0</td>\n",
       "      <td>$453,200</td>\n",
       "      <td>173-11 110th Ave, Jamaica, NY 11433</td>\n",
       "      <td>6 bds</td>\n",
       "      <td>4 ba</td>\n",
       "      <td>2,168 sqft</td>\n",
       "      <td>- Foreclosure</td>\n",
       "    </tr>\n",
       "    <tr>\n",
       "      <th>1</th>\n",
       "      <td>1</td>\n",
       "      <td>$119,000</td>\n",
       "      <td>100 W 57th St #19M, New York, NY 10019</td>\n",
       "      <td>Studio</td>\n",
       "      <td>1 ba</td>\n",
       "      <td>450 sqft</td>\n",
       "      <td>- Condo for sale</td>\n",
       "    </tr>\n",
       "    <tr>\n",
       "      <th>2</th>\n",
       "      <td>2</td>\n",
       "      <td>$1,295,000</td>\n",
       "      <td>461 83rd St, Brooklyn, NY 11209</td>\n",
       "      <td>4 bds</td>\n",
       "      <td>3 ba</td>\n",
       "      <td>2,598 sqft</td>\n",
       "      <td>- For sale by owner</td>\n",
       "    </tr>\n",
       "    <tr>\n",
       "      <th>3</th>\n",
       "      <td>3</td>\n",
       "      <td>$65,000</td>\n",
       "      <td>920 Metcalf Ave APT 3G, Bronx, NY 10473</td>\n",
       "      <td>1 bd</td>\n",
       "      <td>1 ba</td>\n",
       "      <td>700 sqft</td>\n",
       "      <td>- Condo for sale</td>\n",
       "    </tr>\n",
       "    <tr>\n",
       "      <th>4</th>\n",
       "      <td>4</td>\n",
       "      <td>$379,000</td>\n",
       "      <td>303 E 57th St APT 32B, New York, NY 10022</td>\n",
       "      <td>2 bds</td>\n",
       "      <td>3 ba</td>\n",
       "      <td>1,800 sqft</td>\n",
       "      <td>- Condo for sale</td>\n",
       "    </tr>\n",
       "    <tr>\n",
       "      <th>...</th>\n",
       "      <td>...</td>\n",
       "      <td>...</td>\n",
       "      <td>...</td>\n",
       "      <td>...</td>\n",
       "      <td>...</td>\n",
       "      <td>...</td>\n",
       "      <td>...</td>\n",
       "    </tr>\n",
       "    <tr>\n",
       "      <th>792</th>\n",
       "      <td>792</td>\n",
       "      <td>$318,000</td>\n",
       "      <td>76-32 Springfield Blvd FLOOR 143A2-2, Oakland ...</td>\n",
       "      <td>2 bds</td>\n",
       "      <td>1 ba</td>\n",
       "      <td>-- sqft</td>\n",
       "      <td>- Condo for sale</td>\n",
       "    </tr>\n",
       "    <tr>\n",
       "      <th>793</th>\n",
       "      <td>793</td>\n",
       "      <td>$915,000</td>\n",
       "      <td>30 Opal Ln, Staten Island, NY 10309</td>\n",
       "      <td>4 bds</td>\n",
       "      <td>4 ba</td>\n",
       "      <td>2,400 sqft</td>\n",
       "      <td>- House for sale</td>\n",
       "    </tr>\n",
       "    <tr>\n",
       "      <th>794</th>\n",
       "      <td>794</td>\n",
       "      <td>$355,000</td>\n",
       "      <td>1050 Hancock St APT 4C, Brooklyn, NY 11221</td>\n",
       "      <td>2 bds</td>\n",
       "      <td>1 ba</td>\n",
       "      <td>850 sqft</td>\n",
       "      <td>- Condo for sale</td>\n",
       "    </tr>\n",
       "    <tr>\n",
       "      <th>795</th>\n",
       "      <td>795</td>\n",
       "      <td>$1,880,000</td>\n",
       "      <td>2373 205th St, Flushing, NY 11360</td>\n",
       "      <td>4 bds</td>\n",
       "      <td>5 ba</td>\n",
       "      <td>2,600 sqft</td>\n",
       "      <td>- New construction</td>\n",
       "    </tr>\n",
       "    <tr>\n",
       "      <th>796</th>\n",
       "      <td>796</td>\n",
       "      <td>$1,450,000</td>\n",
       "      <td>36-14 216th St, Bayside, NY 11361</td>\n",
       "      <td>5 bds</td>\n",
       "      <td>3 ba</td>\n",
       "      <td>-- sqft</td>\n",
       "      <td>- Multi-family home for sale</td>\n",
       "    </tr>\n",
       "  </tbody>\n",
       "</table>\n",
       "<p>797 rows × 7 columns</p>\n",
       "</div>"
      ],
      "text/plain": [
       "     Unnamed: 0       Price  \\\n",
       "0             0    $453,200   \n",
       "1             1    $119,000   \n",
       "2             2  $1,295,000   \n",
       "3             3     $65,000   \n",
       "4             4    $379,000   \n",
       "..          ...         ...   \n",
       "792         792    $318,000   \n",
       "793         793    $915,000   \n",
       "794         794    $355,000   \n",
       "795         795  $1,880,000   \n",
       "796         796  $1,450,000   \n",
       "\n",
       "                                               Address    Beds Bathrooms  \\\n",
       "0                  173-11 110th Ave, Jamaica, NY 11433   6 bds      4 ba   \n",
       "1               100 W 57th St #19M, New York, NY 10019  Studio      1 ba   \n",
       "2                      461 83rd St, Brooklyn, NY 11209   4 bds      3 ba   \n",
       "3              920 Metcalf Ave APT 3G, Bronx, NY 10473    1 bd      1 ba   \n",
       "4            303 E 57th St APT 32B, New York, NY 10022   2 bds      3 ba   \n",
       "..                                                 ...     ...       ...   \n",
       "792  76-32 Springfield Blvd FLOOR 143A2-2, Oakland ...   2 bds      1 ba   \n",
       "793                30 Opal Ln, Staten Island, NY 10309   4 bds      4 ba   \n",
       "794         1050 Hancock St APT 4C, Brooklyn, NY 11221   2 bds      1 ba   \n",
       "795                  2373 205th St, Flushing, NY 11360   4 bds      5 ba   \n",
       "796                  36-14 216th St, Bayside, NY 11361   5 bds      3 ba   \n",
       "\n",
       "    Square Footage                 Property type  \n",
       "0       2,168 sqft                 - Foreclosure  \n",
       "1         450 sqft              - Condo for sale  \n",
       "2       2,598 sqft           - For sale by owner  \n",
       "3         700 sqft              - Condo for sale  \n",
       "4       1,800 sqft              - Condo for sale  \n",
       "..             ...                           ...  \n",
       "792        -- sqft              - Condo for sale  \n",
       "793     2,400 sqft              - House for sale  \n",
       "794       850 sqft              - Condo for sale  \n",
       "795     2,600 sqft            - New construction  \n",
       "796        -- sqft  - Multi-family home for sale  \n",
       "\n",
       "[797 rows x 7 columns]"
      ]
     },
     "execution_count": 3,
     "metadata": {},
     "output_type": "execute_result"
    }
   ],
   "source": [
    "df\n",
    "# NOTES\n",
    "# \"Unnamed: 0\" was a byproduct column of the extraction, that can be removed\n",
    "# Charecters in price need to be removed\n",
    "# Address will be a key in identifying the data, their city can be useful for analysis\n",
    "# Beds, Bathrooms, and Square footage also need to be stripped of exta charecters\n",
    "# Property type will need to be checked for categorical encoding"
   ]
  },
  {
   "cell_type": "markdown",
   "metadata": {},
   "source": [
    "# Data Cleaning"
   ]
  },
  {
   "cell_type": "code",
   "execution_count": 4,
   "metadata": {},
   "outputs": [],
   "source": [
    "df.drop(columns=\"Unnamed: 0\", inplace=True) #Drop byproduct column"
   ]
  },
  {
   "cell_type": "code",
   "execution_count": 5,
   "metadata": {},
   "outputs": [],
   "source": [
    "cleaned1 = [i.replace(\"K\", \",000\") if \"K\" in i else i for i in df['Price']] # There are some K's in place of 000s in the data set, they ust be replaced\n",
    "cleaned2 = [i.replace(\",\", \"\") for i in cleaned1]\n",
    "cleaned3 = [i.replace(\"$\", \"\") for i in cleaned2]\n",
    "df['Price'] = cleaned3"
   ]
  },
  {
   "cell_type": "code",
   "execution_count": 6,
   "metadata": {},
   "outputs": [],
   "source": [
    "# Now for Beds, Bathrooms, and Square Footage\n",
    "for column in df[['Beds', \"Bathrooms\", \"Square Footage\"]].columns:\n",
    "    df[column] = [re.sub(\"[^0-9]\", \"\", string) for string in df[column]]"
   ]
  },
  {
   "cell_type": "code",
   "execution_count": 7,
   "metadata": {},
   "outputs": [],
   "source": [
    "split_address = [i.split(\",\") for i in df['Address']]\n",
    "city_address = [split_address[i][-2:] for i in range(len(split_address))]"
   ]
  },
  {
   "cell_type": "code",
   "execution_count": 8,
   "metadata": {},
   "outputs": [],
   "source": [
    "zip_column = [re.sub(\"[^0-9]\",'', i[1]) for i in city_address]\n",
    "city_column = [i[0].strip() for i in city_address]"
   ]
  },
  {
   "cell_type": "code",
   "execution_count": 9,
   "metadata": {},
   "outputs": [],
   "source": [
    "df.drop(columns = 'Address', inplace = True)"
   ]
  },
  {
   "cell_type": "code",
   "execution_count": 10,
   "metadata": {},
   "outputs": [],
   "source": [
    "df['City'] = city_column\n",
    "df['Zip Code'] = zip_column"
   ]
  },
  {
   "cell_type": "code",
   "execution_count": 11,
   "metadata": {
    "scrolled": true
   },
   "outputs": [
    {
     "data": {
      "text/plain": [
       "Price             0\n",
       "Beds              0\n",
       "Bathrooms         0\n",
       "Square Footage    0\n",
       "Property type     0\n",
       "City              0\n",
       "Zip Code          0\n",
       "dtype: int64"
      ]
     },
     "execution_count": 11,
     "metadata": {},
     "output_type": "execute_result"
    }
   ],
   "source": [
    "df.isnull().sum()\n",
    "# NOTES\n",
    "# Beds had their studio label removed, that needs to be filled\n",
    "# Some places did not have square footages, that needs to be filled or dropped"
   ]
  },
  {
   "cell_type": "code",
   "execution_count": 12,
   "metadata": {},
   "outputs": [],
   "source": [
    "df['Beds'] = [str(0) if not i else i for i in df['Beds']]"
   ]
  },
  {
   "cell_type": "code",
   "execution_count": 13,
   "metadata": {},
   "outputs": [],
   "source": [
    "df['Square Footage'] = [np.nan if not i else i for i in df['Square Footage']]"
   ]
  },
  {
   "cell_type": "code",
   "execution_count": 14,
   "metadata": {},
   "outputs": [],
   "source": [
    "# Convert to integers\n",
    "df['Beds'] = pd.to_numeric(df['Beds'])\n",
    "df['Bathrooms'] = pd.to_numeric(df['Bathrooms'])\n",
    "df['Price'] = pd.to_numeric(df['Price'])\n",
    "df['Square Footage'] = pd.to_numeric(df['Square Footage'])"
   ]
  },
  {
   "cell_type": "code",
   "execution_count": 15,
   "metadata": {},
   "outputs": [],
   "source": [
    "index_names = df[ df['Beds'] > 50 ].index\n",
    "  \n",
    "# drop these row indexes\n",
    "# from dataFrame\n",
    "df.drop(index_names, inplace = True)"
   ]
  },
  {
   "cell_type": "code",
   "execution_count": 16,
   "metadata": {},
   "outputs": [],
   "source": [
    "index_names = df[df['Bathrooms'].isnull()].index #Remove some Naans\n",
    "df.drop(index_names, inplace = True)"
   ]
  },
  {
   "cell_type": "code",
   "execution_count": 17,
   "metadata": {},
   "outputs": [
    {
     "data": {
      "text/plain": [
       "Price               0\n",
       "Beds                0\n",
       "Bathrooms           0\n",
       "Square Footage    129\n",
       "Property type       0\n",
       "City                0\n",
       "Zip Code            0\n",
       "dtype: int64"
      ]
     },
     "execution_count": 17,
     "metadata": {},
     "output_type": "execute_result"
    }
   ],
   "source": [
    "df.isnull().sum()"
   ]
  },
  {
   "cell_type": "code",
   "execution_count": 18,
   "metadata": {},
   "outputs": [],
   "source": [
    "df.to_csv(\"Resources/cleaned_data.csv\")"
   ]
  }
 ],
 "metadata": {
  "kernelspec": {
   "display_name": "Python 3",
   "language": "python",
   "name": "python3"
  },
  "language_info": {
   "codemirror_mode": {
    "name": "ipython",
    "version": 3
   },
   "file_extension": ".py",
   "mimetype": "text/x-python",
   "name": "python",
   "nbconvert_exporter": "python",
   "pygments_lexer": "ipython3",
   "version": "3.7.6"
  }
 },
 "nbformat": 4,
 "nbformat_minor": 4
}

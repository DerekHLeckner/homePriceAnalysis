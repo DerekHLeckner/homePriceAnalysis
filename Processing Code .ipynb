{
 "cells": [
  {
   "cell_type": "code",
   "execution_count": 1,
   "metadata": {},
   "outputs": [],
   "source": [
    "import pandas as pd\n",
    "import category_encoders as ce\n",
    "import sklearn.preprocessing\n",
    "from sklearn.linear_model import LinearRegression\n",
    "from sklearn.model_selection import train_test_split\n",
    "from sklearn.preprocessing import StandardScaler\n",
    "import seaborn as sns"
   ]
  },
  {
   "cell_type": "code",
   "execution_count": 2,
   "metadata": {},
   "outputs": [],
   "source": [
    "df = pd.read_csv(\"Resources/cleaned_data.csv\")"
   ]
  },
  {
   "cell_type": "code",
   "execution_count": 3,
   "metadata": {},
   "outputs": [
    {
     "data": {
      "text/html": [
       "<div>\n",
       "<style scoped>\n",
       "    .dataframe tbody tr th:only-of-type {\n",
       "        vertical-align: middle;\n",
       "    }\n",
       "\n",
       "    .dataframe tbody tr th {\n",
       "        vertical-align: top;\n",
       "    }\n",
       "\n",
       "    .dataframe thead th {\n",
       "        text-align: right;\n",
       "    }\n",
       "</style>\n",
       "<table border=\"1\" class=\"dataframe\">\n",
       "  <thead>\n",
       "    <tr style=\"text-align: right;\">\n",
       "      <th></th>\n",
       "      <th>Unnamed: 0</th>\n",
       "      <th>Price</th>\n",
       "      <th>Beds</th>\n",
       "      <th>Bathrooms</th>\n",
       "      <th>Square Footage</th>\n",
       "      <th>Property type</th>\n",
       "      <th>City</th>\n",
       "      <th>Zip Code</th>\n",
       "    </tr>\n",
       "  </thead>\n",
       "  <tbody>\n",
       "    <tr>\n",
       "      <th>0</th>\n",
       "      <td>0</td>\n",
       "      <td>453200</td>\n",
       "      <td>6</td>\n",
       "      <td>4.0</td>\n",
       "      <td>2168.0</td>\n",
       "      <td>- Foreclosure</td>\n",
       "      <td>Jamaica</td>\n",
       "      <td>11433.0</td>\n",
       "    </tr>\n",
       "    <tr>\n",
       "      <th>1</th>\n",
       "      <td>1</td>\n",
       "      <td>119000</td>\n",
       "      <td>0</td>\n",
       "      <td>1.0</td>\n",
       "      <td>450.0</td>\n",
       "      <td>- Condo for sale</td>\n",
       "      <td>New York</td>\n",
       "      <td>10019.0</td>\n",
       "    </tr>\n",
       "    <tr>\n",
       "      <th>2</th>\n",
       "      <td>2</td>\n",
       "      <td>1295000</td>\n",
       "      <td>4</td>\n",
       "      <td>3.0</td>\n",
       "      <td>2598.0</td>\n",
       "      <td>- For sale by owner</td>\n",
       "      <td>Brooklyn</td>\n",
       "      <td>11209.0</td>\n",
       "    </tr>\n",
       "    <tr>\n",
       "      <th>3</th>\n",
       "      <td>3</td>\n",
       "      <td>65000</td>\n",
       "      <td>1</td>\n",
       "      <td>1.0</td>\n",
       "      <td>700.0</td>\n",
       "      <td>- Condo for sale</td>\n",
       "      <td>Bronx</td>\n",
       "      <td>10473.0</td>\n",
       "    </tr>\n",
       "    <tr>\n",
       "      <th>4</th>\n",
       "      <td>4</td>\n",
       "      <td>379000</td>\n",
       "      <td>2</td>\n",
       "      <td>3.0</td>\n",
       "      <td>1800.0</td>\n",
       "      <td>- Condo for sale</td>\n",
       "      <td>New York</td>\n",
       "      <td>10022.0</td>\n",
       "    </tr>\n",
       "    <tr>\n",
       "      <th>...</th>\n",
       "      <td>...</td>\n",
       "      <td>...</td>\n",
       "      <td>...</td>\n",
       "      <td>...</td>\n",
       "      <td>...</td>\n",
       "      <td>...</td>\n",
       "      <td>...</td>\n",
       "      <td>...</td>\n",
       "    </tr>\n",
       "    <tr>\n",
       "      <th>784</th>\n",
       "      <td>792</td>\n",
       "      <td>318000</td>\n",
       "      <td>2</td>\n",
       "      <td>1.0</td>\n",
       "      <td>NaN</td>\n",
       "      <td>- Condo for sale</td>\n",
       "      <td>Oakland Gardens</td>\n",
       "      <td>11364.0</td>\n",
       "    </tr>\n",
       "    <tr>\n",
       "      <th>785</th>\n",
       "      <td>793</td>\n",
       "      <td>915000</td>\n",
       "      <td>4</td>\n",
       "      <td>4.0</td>\n",
       "      <td>2400.0</td>\n",
       "      <td>- House for sale</td>\n",
       "      <td>Staten Island</td>\n",
       "      <td>10309.0</td>\n",
       "    </tr>\n",
       "    <tr>\n",
       "      <th>786</th>\n",
       "      <td>794</td>\n",
       "      <td>355000</td>\n",
       "      <td>2</td>\n",
       "      <td>1.0</td>\n",
       "      <td>850.0</td>\n",
       "      <td>- Condo for sale</td>\n",
       "      <td>Brooklyn</td>\n",
       "      <td>11221.0</td>\n",
       "    </tr>\n",
       "    <tr>\n",
       "      <th>787</th>\n",
       "      <td>795</td>\n",
       "      <td>1880000</td>\n",
       "      <td>4</td>\n",
       "      <td>5.0</td>\n",
       "      <td>2600.0</td>\n",
       "      <td>- New construction</td>\n",
       "      <td>Flushing</td>\n",
       "      <td>11360.0</td>\n",
       "    </tr>\n",
       "    <tr>\n",
       "      <th>788</th>\n",
       "      <td>796</td>\n",
       "      <td>1450000</td>\n",
       "      <td>5</td>\n",
       "      <td>3.0</td>\n",
       "      <td>NaN</td>\n",
       "      <td>- Multi-family home for sale</td>\n",
       "      <td>Bayside</td>\n",
       "      <td>11361.0</td>\n",
       "    </tr>\n",
       "  </tbody>\n",
       "</table>\n",
       "<p>789 rows × 8 columns</p>\n",
       "</div>"
      ],
      "text/plain": [
       "     Unnamed: 0    Price  Beds  Bathrooms  Square Footage  \\\n",
       "0             0   453200     6        4.0          2168.0   \n",
       "1             1   119000     0        1.0           450.0   \n",
       "2             2  1295000     4        3.0          2598.0   \n",
       "3             3    65000     1        1.0           700.0   \n",
       "4             4   379000     2        3.0          1800.0   \n",
       "..          ...      ...   ...        ...             ...   \n",
       "784         792   318000     2        1.0             NaN   \n",
       "785         793   915000     4        4.0          2400.0   \n",
       "786         794   355000     2        1.0           850.0   \n",
       "787         795  1880000     4        5.0          2600.0   \n",
       "788         796  1450000     5        3.0             NaN   \n",
       "\n",
       "                    Property type             City  Zip Code  \n",
       "0                   - Foreclosure          Jamaica   11433.0  \n",
       "1                - Condo for sale         New York   10019.0  \n",
       "2             - For sale by owner         Brooklyn   11209.0  \n",
       "3                - Condo for sale            Bronx   10473.0  \n",
       "4                - Condo for sale         New York   10022.0  \n",
       "..                            ...              ...       ...  \n",
       "784              - Condo for sale  Oakland Gardens   11364.0  \n",
       "785              - House for sale    Staten Island   10309.0  \n",
       "786              - Condo for sale         Brooklyn   11221.0  \n",
       "787            - New construction         Flushing   11360.0  \n",
       "788  - Multi-family home for sale          Bayside   11361.0  \n",
       "\n",
       "[789 rows x 8 columns]"
      ]
     },
     "execution_count": 3,
     "metadata": {},
     "output_type": "execute_result"
    }
   ],
   "source": [
    "df\n",
    "# NOTES\n",
    "# Drop Unnamed 0 column\n",
    "# Beds and Square Footages have NAs that will need to be replaced\n",
    "# Property type and city must be quantified\n",
    "# Zip code may or may not be relevant"
   ]
  },
  {
   "cell_type": "code",
   "execution_count": 4,
   "metadata": {},
   "outputs": [],
   "source": [
    "index_names = df[df['Zip Code'].isnull()].index #Remove some Naans\n",
    "df.drop(index_names, inplace = True)"
   ]
  },
  {
   "cell_type": "code",
   "execution_count": 5,
   "metadata": {},
   "outputs": [
    {
     "data": {
      "text/plain": [
       "array(['- Foreclosure', '- Condo for sale', '- For sale by owner',\n",
       "       '- House for sale', '- Multi-family home for sale',\n",
       "       '- Apartment for sale', '- New construction',\n",
       "       '- Townhouse for sale', '- Auction', '- Off market: Zestimate',\n",
       "       '- Coming soon'], dtype=object)"
      ]
     },
     "execution_count": 5,
     "metadata": {},
     "output_type": "execute_result"
    }
   ],
   "source": [
    "df['Property type'].unique()"
   ]
  },
  {
   "cell_type": "code",
   "execution_count": 6,
   "metadata": {},
   "outputs": [
    {
     "data": {
      "text/plain": [
       "array(['Jamaica', 'New York', 'Brooklyn', 'Bronx', 'Staten Island',\n",
       "       'Bayside', 'Howard Beach', 'Elmhurst', 'Astoria', 'Corona',\n",
       "       'Flushing', 'Middle Village', 'Forest Hills', 'South Ozone Park',\n",
       "       'Saint Albans', 'Laurelton', 'New Hyde Park',\n",
       "       'South Richmond Hill', 'Little Neck', 'Far Rockaway',\n",
       "       'East Elmhurst', 'Kew Gardens', 'Springfield Gardens',\n",
       "       'Ozone Park', 'Queens Village', 'Oakland Gardens', 'Whitestone',\n",
       "       'Bellerose', 'Ridgewood', 'Rego Park', 'Hollis', 'Woodside',\n",
       "       'Jackson Heights', 'Floral Park', 'Richmond Hill',\n",
       "       'Long Island City', 'Rockaway Park', 'Cambria Heights', 'Maspeth',\n",
       "       'Woodhaven', 'Fresh Meadows'], dtype=object)"
      ]
     },
     "execution_count": 6,
     "metadata": {},
     "output_type": "execute_result"
    }
   ],
   "source": [
    "df['City'].unique()"
   ]
  },
  {
   "cell_type": "code",
   "execution_count": 7,
   "metadata": {},
   "outputs": [],
   "source": [
    "df[\"Property type\"] = df[\"Property type\"].astype('category')\n",
    "df[\"City\"] = df[\"City\"].astype('category')"
   ]
  },
  {
   "cell_type": "code",
   "execution_count": 8,
   "metadata": {},
   "outputs": [],
   "source": [
    "df[\"Property type\"] = df[\"Property type\"].cat.codes\n",
    "df[\"City\"] = df[\"City\"].cat.codes"
   ]
  },
  {
   "cell_type": "code",
   "execution_count": 9,
   "metadata": {},
   "outputs": [],
   "source": [
    "df.drop(columns = 'Unnamed: 0', inplace=True)"
   ]
  },
  {
   "cell_type": "code",
   "execution_count": 10,
   "metadata": {},
   "outputs": [],
   "source": [
    "#Create object for one-hot encoding\n",
    "encoder=ce.OneHotEncoder(cols=['City','Property type'],handle_unknown='return_nan',return_df=True,use_cat_names=True)\n",
    "df = encoder.fit_transform(df)"
   ]
  },
  {
   "cell_type": "code",
   "execution_count": 11,
   "metadata": {},
   "outputs": [],
   "source": [
    "df.drop(columns = 'Zip Code', inplace=True)"
   ]
  },
  {
   "cell_type": "code",
   "execution_count": 12,
   "metadata": {},
   "outputs": [],
   "source": [
    "df['Square Footage'] = df['Square Footage'].fillna(df['Square Footage'].mean())"
   ]
  },
  {
   "cell_type": "markdown",
   "metadata": {},
   "source": [
    "# Standardize"
   ]
  },
  {
   "cell_type": "code",
   "execution_count": 16,
   "metadata": {},
   "outputs": [],
   "source": [
    "X = df.drop(columns = 'Price')\n",
    "y = df['Price'].values.reshape(-1, 1)"
   ]
  },
  {
   "cell_type": "code",
   "execution_count": 17,
   "metadata": {},
   "outputs": [],
   "source": [
    "X_train, X_test, y_train, y_test = train_test_split(X, y, test_size=0.33, random_state=42)"
   ]
  },
  {
   "cell_type": "code",
   "execution_count": 19,
   "metadata": {},
   "outputs": [],
   "source": [
    "X_scaler = StandardScaler().fit(X_train)\n",
    "y_scaler = StandardScaler().fit(y_train)\n",
    "X_train_scaled = X_scaler.transform(X_train)\n",
    "X_test_scaled = X_scaler.transform(X_test)\n",
    "y_train_scaled = y_scaler.transform(y_train)\n",
    "y_test_scaled = y_scaler.transform(y_test)"
   ]
  },
  {
   "cell_type": "code",
   "execution_count": 24,
   "metadata": {},
   "outputs": [
    {
     "data": {
      "text/plain": [
       "array([-0.56108982, -0.88464351,  0.27209392, -0.12415417,  1.24333974,\n",
       "       -0.24568714, -0.68109389, -0.40734408, -0.08745389, -0.12415417,\n",
       "       -0.2184347 , -0.06172134, -0.04360207, -0.04360207, -0.18805174,\n",
       "        2.09225979, -0.48094533, -0.4041725 , -0.55762467, -0.15264656,\n",
       "       -0.11602387, -0.09787004, -0.10731409, -0.09787004, -0.13907681,\n",
       "       -0.08745389, -0.09787004, -0.06172134, -0.06172134, -0.04360207,\n",
       "       -0.04360207,  0.        , -0.12415417, -0.06172134, -0.04360207,\n",
       "       -0.09787004, -0.04360207, -0.06172134, -0.09787004, -0.11602387,\n",
       "       -0.09787004, -0.04360207, -0.04360207, -0.04360207, -0.04360207,\n",
       "       -0.04360207, -0.04360207, -0.04360207, -0.04360207, -0.06172134,\n",
       "       -0.06172134, -0.04360207, -0.06172134, -0.04360207, -0.04360207])"
      ]
     },
     "execution_count": 24,
     "metadata": {},
     "output_type": "execute_result"
    }
   ],
   "source": [
    "X_train_scaled[1]"
   ]
  },
  {
   "cell_type": "code",
   "execution_count": 21,
   "metadata": {},
   "outputs": [
    {
     "data": {
      "text/plain": [
       "array([-0.14519828])"
      ]
     },
     "execution_count": 21,
     "metadata": {},
     "output_type": "execute_result"
    }
   ],
   "source": [
    "y_train_scaled"
   ]
  },
  {
   "cell_type": "code",
   "execution_count": null,
   "metadata": {},
   "outputs": [],
   "source": [
    "ax = sns.scatterplot(data=df[['Price','Square Footage']], x=\"Square Footage\", y=\"Price\")"
   ]
  },
  {
   "cell_type": "markdown",
   "metadata": {},
   "source": [
    "# Normalization"
   ]
  },
  {
   "cell_type": "code",
   "execution_count": null,
   "metadata": {},
   "outputs": [],
   "source": [
    "square_normalized = sklearn.preprocessing.normalize([df['Square Footage']], norm = 'l2')\n",
    "price_normalized = sklearn.preprocessing.normalize([df['Price']],  norm = 'l2')\n",
    "beds_normalized = sklearn.preprocessing.normalize([df['Beds']],  norm = 'l2')\n",
    "bath_normalized = sklearn.preprocessing.normalize([df['Bathrooms']],  norm = 'l2')"
   ]
  },
  {
   "cell_type": "code",
   "execution_count": null,
   "metadata": {},
   "outputs": [],
   "source": [
    "df['Square Footage'] = square_normalized[0]\n",
    "df['Price'] = price_normalized[0]\n",
    "df['Beds'] = beds_normalized[0]\n",
    "df['Bathrooms'] = bath_normalized[0]"
   ]
  },
  {
   "cell_type": "code",
   "execution_count": null,
   "metadata": {},
   "outputs": [],
   "source": [
    "X = df.drop(columns = 'Price')\n",
    "y = df['Price']"
   ]
  },
  {
   "cell_type": "code",
   "execution_count": null,
   "metadata": {},
   "outputs": [],
   "source": [
    "X_train, X_test, y_train, y_test = train_test_split(X, y, test_size=0.33, random_state=42)"
   ]
  },
  {
   "cell_type": "code",
   "execution_count": null,
   "metadata": {},
   "outputs": [],
   "source": [
    "regr = LinearRegression()\n",
    "regr.fit(X_train, y_train)\n",
    "y_pred = regr.predict(X_test)"
   ]
  },
  {
   "cell_type": "code",
   "execution_count": null,
   "metadata": {},
   "outputs": [],
   "source": [
    "for i in y_pred:\n",
    "    print(i)"
   ]
  },
  {
   "cell_type": "code",
   "execution_count": null,
   "metadata": {},
   "outputs": [],
   "source": [
    "index_names = df[df['Square Footage'] >= 0.9].index #Remove some Naans\n",
    "df.drop(index_names, inplace = True)"
   ]
  },
  {
   "cell_type": "code",
   "execution_count": null,
   "metadata": {},
   "outputs": [],
   "source": [
    "ax = sns.scatterplot(data=df[['Price','Square Footage']], x=\"Square Footage\", y=\"Price\")"
   ]
  },
  {
   "cell_type": "code",
   "execution_count": null,
   "metadata": {},
   "outputs": [],
   "source": [
    "df"
   ]
  }
 ],
 "metadata": {
  "kernelspec": {
   "display_name": "Python 3",
   "language": "python",
   "name": "python3"
  },
  "language_info": {
   "codemirror_mode": {
    "name": "ipython",
    "version": 3
   },
   "file_extension": ".py",
   "mimetype": "text/x-python",
   "name": "python",
   "nbconvert_exporter": "python",
   "pygments_lexer": "ipython3",
   "version": "3.7.6"
  }
 },
 "nbformat": 4,
 "nbformat_minor": 4
}
